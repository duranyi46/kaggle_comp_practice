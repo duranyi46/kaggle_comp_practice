{
 "cells": [
  {
   "cell_type": "code",
   "execution_count": 15,
   "id": "98398050-dd32-45a6-9de6-845a34a1a914",
   "metadata": {},
   "outputs": [],
   "source": [
    "from sklearn.model_selection import train_test_split\n",
    "from sklearn.preprocessing import StandardScaler, OneHotEncoder\n",
    "from sklearn.compose import ColumnTransformer\n",
    "from sklearn.pipeline import Pipeline\n",
    "from sklearn.impute import SimpleImputer\n",
    "from sklearn.ensemble import RandomForestClassifier\n",
    "from sklearn.metrics import accuracy_score\n",
    "import pandas as pd\n",
    "\n",
    "class BasicPipeline:\n",
    "    def __init__(self, data, target):\n",
    "        self.data = data\n",
    "        self.target = target\n",
    "\n",
    "    def load_data(self):\n",
    "        X = self.data.drop(columns=[self.target])\n",
    "        y = self.data[self.target]\n",
    "        return X, y\n",
    "\n",
    "    def preprocess_data(self, X):\n",
    "        numeric_features = X.select_dtypes(include=['int64', 'float64']).columns\n",
    "        categorical_features = X.select_dtypes(include=['object']).columns\n",
    "\n",
    "        numeric_transformer = Pipeline(steps=[\n",
    "            ('imputer', SimpleImputer(strategy='median')),\n",
    "            ('scaler', StandardScaler())])\n",
    "\n",
    "        categorical_transformer = Pipeline(steps=[\n",
    "            ('imputer', SimpleImputer(strategy='constant', fill_value='missing')),\n",
    "            ('onehot', OneHotEncoder(handle_unknown='ignore'))])\n",
    "\n",
    "        preprocessor = ColumnTransformer(\n",
    "            transformers=[\n",
    "                ('num', numeric_transformer, numeric_features),\n",
    "                ('cat', categorical_transformer, categorical_features)])\n",
    "\n",
    "        return preprocessor\n",
    "\n",
    "    def split_data(self, X, y):\n",
    "        X_train, X_test, y_train, y_test = train_test_split(X, y, test_size=0.2, random_state=42)\n",
    "        return X_train, X_test, y_train, y_test\n",
    "\n",
    "    def train_model(self, X_train, y_train, preprocessor):\n",
    "        clf = Pipeline(steps=[('preprocessor', preprocessor),\n",
    "                              ('classifier', RandomForestClassifier())])\n",
    "        clf.fit(X_train, y_train)\n",
    "        return clf\n",
    "    \n",
    "    def evaluate_model(self, clf, X_test, y_test):\n",
    "        y_pred = clf.predict(X_test)\n",
    "        score = accuracy_score(y_test, y_pred)\n",
    "        return score\n",
    "\n",
    "    def run(self):\n",
    "        X, y = self.load_data()\n",
    "        preprocessor = self.preprocess_data(X)\n",
    "        X_train, X_test, y_train, y_test = self.split_data(X, y)\n",
    "        clf = self.train_model(X_train, y_train, preprocessor)\n",
    "        score = self.evaluate_model(clf, X_test, y_test)\n",
    "        return score"
   ]
  },
  {
   "cell_type": "code",
   "execution_count": 17,
   "id": "b3e8016e-21ea-4368-b43e-39b3f18bf323",
   "metadata": {},
   "outputs": [
    {
     "name": "stdout",
     "output_type": "stream",
     "text": [
      "Model accuracy: 0.810691298580062\n"
     ]
    }
   ],
   "source": [
    "# Assuming you have the data in 'train.csv'\n",
    "train_df = pd.read_csv(\"train.csv\")\n",
    "pipeline = BasicPipeline(data=train_df, target='defects')\n",
    "score = pipeline.run()\n",
    "print(f\"Model accuracy: {score}\")\n"
   ]
  },
  {
   "cell_type": "code",
   "execution_count": null,
   "id": "f8b24362-834e-433b-880f-38d9c035037d",
   "metadata": {},
   "outputs": [],
   "source": []
  }
 ],
 "metadata": {
  "kernelspec": {
   "display_name": "Python 3 (ipykernel)",
   "language": "python",
   "name": "python3"
  },
  "language_info": {
   "codemirror_mode": {
    "name": "ipython",
    "version": 3
   },
   "file_extension": ".py",
   "mimetype": "text/x-python",
   "name": "python",
   "nbconvert_exporter": "python",
   "pygments_lexer": "ipython3",
   "version": "3.11.7"
  }
 },
 "nbformat": 4,
 "nbformat_minor": 5
}
